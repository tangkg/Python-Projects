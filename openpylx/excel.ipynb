{
 "cells": [
  {
   "cell_type": "markdown",
   "source": [
    "## 查看数据"
   ],
   "metadata": {}
  },
  {
   "cell_type": "code",
   "execution_count": 2,
   "source": [
    "from openpyxl import Workbook,load_workbook\r\n",
    "\r\n",
    "#打开表\r\n",
    "wb = load_workbook(\"excel.xlsx\")\r\n",
    "\r\n",
    "#打开当前表\r\n",
    "ws = wb.active\r\n",
    "\r\n",
    "#打印某格\r\n",
    "print(ws['G20'].value)\r\n",
    "\r\n",
    "#改变值\r\n",
    "ws['G20'].value = 0\r\n",
    "\r\n",
    "#保存表\r\n",
    "wb.save('excel.xlsx')\r\n"
   ],
   "outputs": [
    {
     "output_type": "stream",
     "name": "stdout",
     "text": [
      "100\n",
      "0\n"
     ]
    }
   ],
   "metadata": {}
  },
  {
   "cell_type": "markdown",
   "source": [
    "## 创建表"
   ],
   "metadata": {}
  },
  {
   "cell_type": "code",
   "execution_count": 8,
   "source": [
    "#当前所有表\r\n",
    "print(wb.sheetnames)\r\n",
    "\r\n",
    "#创建表\r\n",
    "wb.create_sheet('工资条例')\r\n",
    "\r\n",
    "wb.save('excel.xlsx')\r\n",
    "print(wb.sheetnames)"
   ],
   "outputs": [
    {
     "output_type": "stream",
     "name": "stdout",
     "text": [
      "['工资统计', '工资条例', '工资条例1']\n",
      "['工资统计', '工资条例', '工资条例1', '工资条例2']\n"
     ]
    }
   ],
   "metadata": {}
  },
  {
   "cell_type": "markdown",
   "source": [
    "## 新建表格，添加值"
   ],
   "metadata": {}
  },
  {
   "cell_type": "code",
   "execution_count": 34,
   "source": [
    "wb1 = Workbook()\r\n",
    "ws1 = wb1.active\r\n",
    "ws1.title = 'QQ'\r\n",
    "\r\n",
    "ws1.append([123,456,789,0])\r\n",
    "ws1.append([123,456,789,0])\r\n",
    "ws1.append([123,456,789,0])\r\n",
    "ws1.append([123,456,789,0])\r\n",
    "ws1.append([123,456,789,0])\r\n",
    "\r\n",
    "wb1.save('new.xlsx')"
   ],
   "outputs": [],
   "metadata": {}
  },
  {
   "cell_type": "markdown",
   "source": [
    "## 读取范围资料"
   ],
   "metadata": {}
  },
  {
   "cell_type": "code",
   "execution_count": 42,
   "source": [
    "from openpyxl import Workbook,load_workbook\r\n",
    "from openpyxl.utils import get_column_letter\r\n",
    "\r\n",
    "wb1 = load_workbook('new.xlsx')\r\n",
    "ws1 = wb1.active\r\n",
    "\r\n",
    "for row in range(1,6):\r\n",
    "    for col in range(1,5):\r\n",
    "        char = get_column_letter(col)\r\n",
    "        print(ws1[char + str(row)].value)\r\n",
    "        ws1[char + str(row)].value = char + str(row)\r\n",
    "wb1.save('new.xlsx')\r\n",
    "\r\n"
   ],
   "outputs": [
    {
     "output_type": "stream",
     "name": "stdout",
     "text": [
      "A1\n",
      "B1\n",
      "C1\n",
      "D1\n",
      "A2\n",
      "B2\n",
      "C2\n",
      "D2\n",
      "A3\n",
      "B3\n",
      "C3\n",
      "D3\n",
      "A4\n",
      "B4\n",
      "C4\n",
      "D4\n",
      "A5\n",
      "B5\n",
      "C5\n",
      "D5\n"
     ]
    }
   ],
   "metadata": {}
  },
  {
   "cell_type": "markdown",
   "source": [
    "## 合并单元格"
   ],
   "metadata": {}
  },
  {
   "cell_type": "code",
   "execution_count": 49,
   "source": [
    "from openpyxl import Workbook,load_workbook\r\n",
    "\r\n",
    "wb = load_workbook('new.xlsx')\r\n",
    "ws = wb.active\r\n",
    "\r\n",
    "#ws.merge_cells('A1:D1')\r\n",
    "#ws.unmerge_cells('A1:D1')\r\n",
    "\r\n",
    "ws.merge_cells('A1:D2')\r\n",
    "ws.unmerge_cells('A1:D2')\r\n",
    "\r\n",
    "wb.save(\"new.xlsx\")"
   ],
   "outputs": [],
   "metadata": {}
  },
  {
   "cell_type": "markdown",
   "source": [
    "## 插入单元格"
   ],
   "metadata": {}
  },
  {
   "cell_type": "code",
   "execution_count": 61,
   "source": [
    "from openpyxl import Workbook,load_workbook\r\n",
    "\r\n",
    "wb = load_workbook('new.xlsx')\r\n",
    "ws = wb.active\r\n",
    "\r\n",
    "ws.delete_rows(1)\r\n",
    "#ws.insert_cols(2)\r\n",
    "\r\n",
    "wb.save(\"new.xlsx\")"
   ],
   "outputs": [],
   "metadata": {}
  },
  {
   "cell_type": "markdown",
   "source": [
    "## 移动数据"
   ],
   "metadata": {}
  },
  {
   "cell_type": "code",
   "execution_count": 54,
   "source": [
    "from openpyxl import Workbook,load_workbook\r\n",
    "\r\n",
    "wb = load_workbook('new.xlsx')\r\n",
    "ws = wb.active\r\n",
    "\r\n",
    "ws.move_range(\"A3:E4\", rows = 2, cols = 2)\r\n",
    "\r\n",
    "wb.save(\"new.xlsx\")"
   ],
   "outputs": [],
   "metadata": {}
  },
  {
   "cell_type": "markdown",
   "source": [
    "## 实操"
   ],
   "metadata": {}
  },
  {
   "cell_type": "code",
   "execution_count": 66,
   "source": [
    "from openpyxl import Workbook, load_workbook\r\n",
    "from openpyxl.utils import get_column_letter\r\n",
    "from openpyxl.styles import Font\r\n",
    "\r\n",
    "data = [\r\n",
    "    {\r\n",
    "        'name': '小白',\r\n",
    "        'tall': 180,\r\n",
    "        'age': 23,\r\n",
    "        'weight': 74\r\n",
    "    },\r\n",
    "    {\r\n",
    "        'name': '小黃',\r\n",
    "        'tall': 177,\r\n",
    "        'age': 28,\r\n",
    "        'weight': 90\r\n",
    "    },\r\n",
    "    {\r\n",
    "        'name': '小綠',\r\n",
    "        'tall': 160,\r\n",
    "        'age': 30,\r\n",
    "        'weight': 60\r\n",
    "    },\r\n",
    "    {\r\n",
    "        'name': '小灰',\r\n",
    "        'tall': 155,\r\n",
    "        'age': 50,\r\n",
    "        'weight': 50\r\n",
    "    },\r\n",
    "    {\r\n",
    "        'name': '小黑',\r\n",
    "        'tall': 170,\r\n",
    "        'age': 46,\r\n",
    "        'weight': 99\r\n",
    "    },\r\n",
    "    {\r\n",
    "        'name': '小江',\r\n",
    "        'tall': 165,\r\n",
    "        'age': 25,\r\n",
    "        'weight': 57\r\n",
    "    }\r\n",
    "]\r\n",
    "\r\n",
    "wb = Workbook()\r\n",
    "ws = wb.active\r\n",
    "\r\n",
    "title = ['姓名', '身高', '年龄', '体重']\r\n",
    "ws.append(title)\r\n",
    "\r\n",
    "for person in data:\r\n",
    "    ws.append(list(person.values()))\r\n",
    "\r\n",
    "for col in range(2,5):\r\n",
    "    char = get_column_letter(col)\r\n",
    "    ws[char + '8'] = f'=AVERAGE({char + \"2\"}:{char + \"7\"})'\r\n",
    "\r\n",
    "for col in range(1,5):\r\n",
    "    char = get_column_letter(col)\r\n",
    "    ws[char + '1'].font = Font(bold=True, color=\"000000FF\")\r\n",
    "\r\n",
    "wb.save('new.xlsx')"
   ],
   "outputs": [],
   "metadata": {}
  }
 ],
 "metadata": {
  "orig_nbformat": 4,
  "language_info": {
   "name": "python",
   "version": "3.8.3",
   "mimetype": "text/x-python",
   "codemirror_mode": {
    "name": "ipython",
    "version": 3
   },
   "pygments_lexer": "ipython3",
   "nbconvert_exporter": "python",
   "file_extension": ".py"
  },
  "kernelspec": {
   "name": "python3",
   "display_name": "Python 3.8.3 64-bit ('base': conda)"
  },
  "interpreter": {
   "hash": "73e03da126b73bfff3642ec5261d56fa25c444ea595de51041687efaa60dda41"
  }
 },
 "nbformat": 4,
 "nbformat_minor": 2
}